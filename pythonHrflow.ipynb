{
  "nbformat": 4,
  "nbformat_minor": 0,
  "metadata": {
    "colab": {
      "provenance": [],
      "authorship_tag": "ABX9TyO2OQm5plK7dZDcGOq00ktW",
      "include_colab_link": true
    },
    "kernelspec": {
      "name": "python3",
      "display_name": "Python 3"
    },
    "language_info": {
      "name": "python"
    }
  },
  "cells": [
    {
      "cell_type": "markdown",
      "metadata": {
        "id": "view-in-github",
        "colab_type": "text"
      },
      "source": [
        "<a href=\"https://colab.research.google.com/github/Ferchahki/connectHrFlowIndeed/blob/main/pythonHrflow.ipynb\" target=\"_parent\"><img src=\"https://colab.research.google.com/assets/colab-badge.svg\" alt=\"Open In Colab\"/></a>"
      ]
    },
    {
      "cell_type": "code",
      "source": [
        "pip install --upgrade webdriver_manager"
      ],
      "metadata": {
        "colab": {
          "base_uri": "https://localhost:8080/"
        },
        "id": "ohoUKr08L979",
        "outputId": "2ee242c1-3f78-4feb-d03c-8e6e6570e2ac"
      },
      "execution_count": 5,
      "outputs": [
        {
          "output_type": "stream",
          "name": "stdout",
          "text": [
            "Looking in indexes: https://pypi.org/simple, https://us-python.pkg.dev/colab-wheels/public/simple/\n",
            "Collecting webdriver_manager\n",
            "  Downloading webdriver_manager-3.8.6-py2.py3-none-any.whl (27 kB)\n",
            "Requirement already satisfied: requests in /usr/local/lib/python3.10/dist-packages (from webdriver_manager) (2.27.1)\n",
            "Collecting python-dotenv (from webdriver_manager)\n",
            "  Downloading python_dotenv-1.0.0-py3-none-any.whl (19 kB)\n",
            "Requirement already satisfied: tqdm in /usr/local/lib/python3.10/dist-packages (from webdriver_manager) (4.65.0)\n",
            "Requirement already satisfied: packaging in /usr/local/lib/python3.10/dist-packages (from webdriver_manager) (23.1)\n",
            "Requirement already satisfied: urllib3<1.27,>=1.21.1 in /usr/local/lib/python3.10/dist-packages (from requests->webdriver_manager) (1.26.15)\n",
            "Requirement already satisfied: certifi>=2017.4.17 in /usr/local/lib/python3.10/dist-packages (from requests->webdriver_manager) (2022.12.7)\n",
            "Requirement already satisfied: charset-normalizer~=2.0.0 in /usr/local/lib/python3.10/dist-packages (from requests->webdriver_manager) (2.0.12)\n",
            "Requirement already satisfied: idna<4,>=2.5 in /usr/local/lib/python3.10/dist-packages (from requests->webdriver_manager) (3.4)\n",
            "Installing collected packages: python-dotenv, webdriver_manager\n",
            "Successfully installed python-dotenv-1.0.0 webdriver_manager-3.8.6\n"
          ]
        }
      ]
    },
    {
      "cell_type": "code",
      "source": [
        "!pip install selenium"
      ],
      "metadata": {
        "colab": {
          "base_uri": "https://localhost:8080/"
        },
        "id": "Z22suVlQLkUl",
        "outputId": "227a1698-011d-4ab6-f889-e4c0fab85046"
      },
      "execution_count": 2,
      "outputs": [
        {
          "output_type": "stream",
          "name": "stdout",
          "text": [
            "Looking in indexes: https://pypi.org/simple, https://us-python.pkg.dev/colab-wheels/public/simple/\n",
            "Collecting selenium\n",
            "  Downloading selenium-4.10.0-py3-none-any.whl (6.7 MB)\n",
            "\u001b[2K     \u001b[90m━━━━━━━━━━━━━━━━━━━━━━━━━━━━━━━━━━━━━━━━\u001b[0m \u001b[32m6.7/6.7 MB\u001b[0m \u001b[31m57.6 MB/s\u001b[0m eta \u001b[36m0:00:00\u001b[0m\n",
            "\u001b[?25hRequirement already satisfied: urllib3[socks]<3,>=1.26 in /usr/local/lib/python3.10/dist-packages (from selenium) (1.26.15)\n",
            "Collecting trio~=0.17 (from selenium)\n",
            "  Downloading trio-0.22.0-py3-none-any.whl (384 kB)\n",
            "\u001b[2K     \u001b[90m━━━━━━━━━━━━━━━━━━━━━━━━━━━━━━━━━━━━━━\u001b[0m \u001b[32m384.9/384.9 kB\u001b[0m \u001b[31m41.4 MB/s\u001b[0m eta \u001b[36m0:00:00\u001b[0m\n",
            "\u001b[?25hCollecting trio-websocket~=0.9 (from selenium)\n",
            "  Downloading trio_websocket-0.10.3-py3-none-any.whl (17 kB)\n",
            "Requirement already satisfied: certifi>=2021.10.8 in /usr/local/lib/python3.10/dist-packages (from selenium) (2022.12.7)\n",
            "Requirement already satisfied: attrs>=19.2.0 in /usr/local/lib/python3.10/dist-packages (from trio~=0.17->selenium) (23.1.0)\n",
            "Requirement already satisfied: sortedcontainers in /usr/local/lib/python3.10/dist-packages (from trio~=0.17->selenium) (2.4.0)\n",
            "Collecting async-generator>=1.9 (from trio~=0.17->selenium)\n",
            "  Downloading async_generator-1.10-py3-none-any.whl (18 kB)\n",
            "Requirement already satisfied: idna in /usr/local/lib/python3.10/dist-packages (from trio~=0.17->selenium) (3.4)\n",
            "Collecting outcome (from trio~=0.17->selenium)\n",
            "  Downloading outcome-1.2.0-py2.py3-none-any.whl (9.7 kB)\n",
            "Requirement already satisfied: sniffio in /usr/local/lib/python3.10/dist-packages (from trio~=0.17->selenium) (1.3.0)\n",
            "Requirement already satisfied: exceptiongroup>=1.0.0rc9 in /usr/local/lib/python3.10/dist-packages (from trio~=0.17->selenium) (1.1.1)\n",
            "Collecting wsproto>=0.14 (from trio-websocket~=0.9->selenium)\n",
            "  Downloading wsproto-1.2.0-py3-none-any.whl (24 kB)\n",
            "Requirement already satisfied: PySocks!=1.5.7,<2.0,>=1.5.6 in /usr/local/lib/python3.10/dist-packages (from urllib3[socks]<3,>=1.26->selenium) (1.7.1)\n",
            "Collecting h11<1,>=0.9.0 (from wsproto>=0.14->trio-websocket~=0.9->selenium)\n",
            "  Downloading h11-0.14.0-py3-none-any.whl (58 kB)\n",
            "\u001b[2K     \u001b[90m━━━━━━━━━━━━━━━━━━━━━━━━━━━━━━━━━━━━━━━━\u001b[0m \u001b[32m58.3/58.3 kB\u001b[0m \u001b[31m7.7 MB/s\u001b[0m eta \u001b[36m0:00:00\u001b[0m\n",
            "\u001b[?25hInstalling collected packages: outcome, h11, async-generator, wsproto, trio, trio-websocket, selenium\n",
            "Successfully installed async-generator-1.10 h11-0.14.0 outcome-1.2.0 selenium-4.10.0 trio-0.22.0 trio-websocket-0.10.3 wsproto-1.2.0\n"
          ]
        }
      ]
    },
    {
      "cell_type": "code",
      "source": [
        "pip install Hrflow"
      ],
      "metadata": {
        "colab": {
          "base_uri": "https://localhost:8080/"
        },
        "id": "T30Ipfuwgl_y",
        "outputId": "f55e4e4b-4830-44bc-b60e-9e04f5e5d74a"
      },
      "execution_count": 4,
      "outputs": [
        {
          "output_type": "stream",
          "name": "stdout",
          "text": [
            "Looking in indexes: https://pypi.org/simple, https://us-python.pkg.dev/colab-wheels/public/simple/\n",
            "Collecting Hrflow\n",
            "  Downloading hrflow-3.0.0-py3-none-any.whl (34 kB)\n",
            "Requirement already satisfied: requests in /usr/local/lib/python3.10/dist-packages (from Hrflow) (2.27.1)\n",
            "Collecting python-magic (from Hrflow)\n",
            "  Downloading python_magic-0.4.27-py2.py3-none-any.whl (13 kB)\n",
            "Requirement already satisfied: urllib3<1.27,>=1.21.1 in /usr/local/lib/python3.10/dist-packages (from requests->Hrflow) (1.26.15)\n",
            "Requirement already satisfied: certifi>=2017.4.17 in /usr/local/lib/python3.10/dist-packages (from requests->Hrflow) (2022.12.7)\n",
            "Requirement already satisfied: charset-normalizer~=2.0.0 in /usr/local/lib/python3.10/dist-packages (from requests->Hrflow) (2.0.12)\n",
            "Requirement already satisfied: idna<4,>=2.5 in /usr/local/lib/python3.10/dist-packages (from requests->Hrflow) (3.4)\n",
            "Installing collected packages: python-magic, Hrflow\n",
            "Successfully installed Hrflow-3.0.0 python-magic-0.4.27\n"
          ]
        }
      ]
    },
    {
      "cell_type": "code",
      "source": [
        "pip install webdriver_manager"
      ],
      "metadata": {
        "id": "oQgiSn5476At"
      },
      "execution_count": null,
      "outputs": []
    },
    {
      "cell_type": "code",
      "source": [
        "pip install selenium --upgrade"
      ],
      "metadata": {
        "colab": {
          "base_uri": "https://localhost:8080/"
        },
        "id": "BGZvieuW9Dw2",
        "outputId": "9a96be21-5fff-4c8d-dbc1-3de03c0fd140"
      },
      "execution_count": 8,
      "outputs": [
        {
          "output_type": "stream",
          "name": "stdout",
          "text": [
            "Looking in indexes: https://pypi.org/simple, https://us-python.pkg.dev/colab-wheels/public/simple/\n",
            "Requirement already satisfied: selenium in /usr/local/lib/python3.10/dist-packages (4.10.0)\n",
            "Requirement already satisfied: urllib3[socks]<3,>=1.26 in /usr/local/lib/python3.10/dist-packages (from selenium) (1.26.15)\n",
            "Requirement already satisfied: trio~=0.17 in /usr/local/lib/python3.10/dist-packages (from selenium) (0.22.0)\n",
            "Requirement already satisfied: trio-websocket~=0.9 in /usr/local/lib/python3.10/dist-packages (from selenium) (0.10.3)\n",
            "Requirement already satisfied: certifi>=2021.10.8 in /usr/local/lib/python3.10/dist-packages (from selenium) (2022.12.7)\n",
            "Requirement already satisfied: attrs>=19.2.0 in /usr/local/lib/python3.10/dist-packages (from trio~=0.17->selenium) (23.1.0)\n",
            "Requirement already satisfied: sortedcontainers in /usr/local/lib/python3.10/dist-packages (from trio~=0.17->selenium) (2.4.0)\n",
            "Requirement already satisfied: async-generator>=1.9 in /usr/local/lib/python3.10/dist-packages (from trio~=0.17->selenium) (1.10)\n",
            "Requirement already satisfied: idna in /usr/local/lib/python3.10/dist-packages (from trio~=0.17->selenium) (3.4)\n",
            "Requirement already satisfied: outcome in /usr/local/lib/python3.10/dist-packages (from trio~=0.17->selenium) (1.2.0)\n",
            "Requirement already satisfied: sniffio in /usr/local/lib/python3.10/dist-packages (from trio~=0.17->selenium) (1.3.0)\n",
            "Requirement already satisfied: exceptiongroup>=1.0.0rc9 in /usr/local/lib/python3.10/dist-packages (from trio~=0.17->selenium) (1.1.1)\n",
            "Requirement already satisfied: wsproto>=0.14 in /usr/local/lib/python3.10/dist-packages (from trio-websocket~=0.9->selenium) (1.2.0)\n",
            "Requirement already satisfied: PySocks!=1.5.7,<2.0,>=1.5.6 in /usr/local/lib/python3.10/dist-packages (from urllib3[socks]<3,>=1.26->selenium) (1.7.1)\n",
            "Requirement already satisfied: h11<1,>=0.9.0 in /usr/local/lib/python3.10/dist-packages (from wsproto>=0.14->trio-websocket~=0.9->selenium) (0.14.0)\n"
          ]
        }
      ]
    },
    {
      "cell_type": "code",
      "source": [
        "pip install webdriver-manager"
      ],
      "metadata": {
        "colab": {
          "base_uri": "https://localhost:8080/"
        },
        "id": "WEo7SPBH9kH2",
        "outputId": "eea7bc6d-3021-4cfc-dea2-53a0f255e553"
      },
      "execution_count": 10,
      "outputs": [
        {
          "output_type": "stream",
          "name": "stdout",
          "text": [
            "Looking in indexes: https://pypi.org/simple, https://us-python.pkg.dev/colab-wheels/public/simple/\n",
            "Collecting webdriver-manager\n",
            "  Downloading webdriver_manager-3.8.6-py2.py3-none-any.whl (27 kB)\n",
            "Requirement already satisfied: requests in /usr/local/lib/python3.10/dist-packages (from webdriver-manager) (2.27.1)\n",
            "Collecting python-dotenv (from webdriver-manager)\n",
            "  Downloading python_dotenv-1.0.0-py3-none-any.whl (19 kB)\n",
            "Requirement already satisfied: tqdm in /usr/local/lib/python3.10/dist-packages (from webdriver-manager) (4.65.0)\n",
            "Requirement already satisfied: packaging in /usr/local/lib/python3.10/dist-packages (from webdriver-manager) (23.1)\n",
            "Requirement already satisfied: urllib3<1.27,>=1.21.1 in /usr/local/lib/python3.10/dist-packages (from requests->webdriver-manager) (1.26.15)\n",
            "Requirement already satisfied: certifi>=2017.4.17 in /usr/local/lib/python3.10/dist-packages (from requests->webdriver-manager) (2022.12.7)\n",
            "Requirement already satisfied: charset-normalizer~=2.0.0 in /usr/local/lib/python3.10/dist-packages (from requests->webdriver-manager) (2.0.12)\n",
            "Requirement already satisfied: idna<4,>=2.5 in /usr/local/lib/python3.10/dist-packages (from requests->webdriver-manager) (3.4)\n",
            "Installing collected packages: python-dotenv, webdriver-manager\n",
            "Successfully installed python-dotenv-1.0.0 webdriver-manager-3.8.6\n"
          ]
        }
      ]
    },
    {
      "cell_type": "code",
      "source": [
        "import os\n",
        "from selenium import webdriver\n",
        "from hrflow import Hrflow\n",
        "import requests\n",
        "\n",
        "\n",
        "\n",
        "class Crawler:\n",
        "    \"\"\"\n",
        "    selenium Crawler Class\n",
        "    \"\"\"\n",
        "    def __init__(self) -> object:\n",
        "        chrome_options = webdriver.ChromeOptions()\n",
        "        self._tmp_folder = \"/tmp/chromium\"\n",
        "        if not os.path.exists(self._tmp_folder):\n",
        "            os.makedirs(self._tmp_folder)\n",
        "        if not os.path.exists(self._tmp_folder + \"/user-data\"):\n",
        "            os.makedirs(self._tmp_folder + \"/user-data\")\n",
        "        if not os.path.exists(self._tmp_folder + \"/data-path\"):\n",
        "            os.makedirs(self._tmp_folder + \"/data-path\")\n",
        "        if not os.path.exists(self._tmp_folder + \"/cache-dir\"):\n",
        "            os.makedirs(self._tmp_folder + \"/cache-dir\")\n",
        "        if not os.path.exists(self._tmp_folder + \"/download-data\"):\n",
        "            os.makedirs(self._tmp_folder + \"/download-data\")\n",
        "        self.download_location = self._tmp_folder + \"/download-data\"\n",
        "\n",
        "        chrome_options.add_argument(\"--headless\")\n",
        "        chrome_options.add_argument(\"--no-sandbox\")\n",
        "        chrome_options.add_argument(\"--disable-gpu\")\n",
        "        chrome_options.add_argument(\"--window-size=1280x1696\")\n",
        "        chrome_options.add_argument(\"--user-data-dir={}\".format(self._tmp_folder + \"/user-data\"))\n",
        "        chrome_options.add_argument(\"--hide-scrollbars\")\n",
        "        chrome_options.add_argument(\"--enable-logging\")\n",
        "        chrome_options.add_argument(\"--log-level=0\")\n",
        "        chrome_options.add_argument(\"--v=99\")\n",
        "        chrome_options.add_argument(\"--single-process\")\n",
        "        chrome_options.add_argument(\"--data-path={}\".format(self._tmp_folder + \"/data-path\"))\n",
        "        chrome_options.add_argument(\"--ignore-certificate-errors\")\n",
        "        chrome_options.add_argument(\"--homedir={}\".format(self._tmp_folder))\n",
        "        chrome_options.add_argument(\"--disk-cache-dir={}\".format(self._tmp_folder + \"/cache-dir\"))\n",
        "        chrome_options.add_argument(\"--disable-dev-shm-usage\")\n",
        "        chrome_options.binary_location = \"/opt/bin/headless-chromium\"\n",
        "        self._driver = webdriver.Chrome(chrome_options=chrome_options)\n",
        "\n",
        "        print(\"Headless Chrome Initialized\")\n",
        "        params = {\"behavior\": \"allow\", \"downloadPath\": self._tmp_folder + \"/download-data\"}\n",
        "        self._driver.execute_cdp_cmd(\"Page.setDownloadBehavior\", params)\n",
        "\n",
        "    def get_driver(self):\n",
        "        return self._driver\n",
        "\n",
        "\n",
        "def format_job(driver: object) -> dict:\n",
        "    \"\"\"\n",
        "    Format the scrapped job according to the HrFlow.ai Job format\n",
        "    @param driver: Crawler driver\n",
        "    @return: job in the HrFlow.ai format of skills\n",
        "    \"\"\"\n",
        "    location = driver.find_element_by_xpath(\"//*[@id='map']\")\n",
        "    tags = driver.find_element_by_xpath(\"//*[@class='attrgroup']\").text.split(\"\\n\")\n",
        "\n",
        "    return {\n",
        "        \"name\": driver.find_element_by_xpath(\"//*[@id='titletextonly']\").text,\n",
        "        \"agent_key\": None,\n",
        "        \"reference\": None,\n",
        "        \"url\": driver.current_url,\n",
        "        \"created_at\": driver.find_elements_by_xpath(\"//*[@class='postinginfo reveal']\")[0].find_element_by_tag_name(\"time\").get_attribute(\"datetime\"),\n",
        "        \"updated_at\": None,\n",
        "        \"summary\": \"\",\n",
        "        \"location\": {\n",
        "            \"text\": None,\n",
        "            \"lat\": location.get_attribute(\"data-latitude\"),\n",
        "            \"lng\": location.get_attribute(\"data-longitude\")},\n",
        "        \"sections\": [\n",
        "            {\"name\": \"description\", \"title\": \"Description\", \"description\": driver.find_element_by_xpath(\"//*[@id='postingbody']\").text}\n",
        "        ],\n",
        "        \"skills\": [],\n",
        "        \"languages\": [],\n",
        "        \"tags\": [\n",
        "            {\"name\": \"compensation\", \"value\": tags[0].split(\":\")[1].strip()},\n",
        "            {\"name\": \"employment_type\", \"value\": tags[1].split(\":\")[1].strip()}\n",
        "        ],\n",
        "        \"ranges_date\": [],\n",
        "        \"ranges_float\": [],\n",
        "        \"metadatas\": [],\n",
        "    }\n",
        "\n",
        "\n",
        "def format_skills(text: str, ents: list) -> list:\n",
        "    \"\"\"\n",
        "    Get the list of skills according to the HrFlow.ai Job format\n",
        "    @param text: text description of the job\n",
        "    @param ents: list of entities in the text\n",
        "    @return: list of skills\n",
        "    \"\"\"\n",
        "    skills = [{ \"name\": text[ent[\"start\"]:ent[\"end\"]].lower(), \"value\": None,\n",
        "                \"type\": \"hard\" if ent[\"label\"] == \"HardSkill\" else \"soft\"}\n",
        "              for ent in ents if ent[\"label\"].endswith(\"Skill\")]\n",
        "    return list({v[\"name\"]:v for v in skills}.values())\n",
        "\n",
        "\n",
        "def workflow(settings: dict) -> None:\n",
        "    \"\"\"\n",
        "    PULL WORKFLOW allows you to run the following code instructions on a regular basis\n",
        "\n",
        "    WORKFLOW follows these steps:\n",
        "        1- Init HrFlow.ai Client\n",
        "        2- Open Jobboard URL\n",
        "        3- Compute total_pages\n",
        "        4- Iterate over all pages\n",
        "             - Iterate over all jobs in the given page\n",
        "                - For every job, check whether the job already indexed in HrFlow.ai\"s board using Job API\n",
        "                - If the job doesn\"t exist :\n",
        "                        - scrap and format the job\n",
        "                        - enrich the job using HrFlow.ai Document API\n",
        "                        - save the job using HrFlow.ai Job API\n",
        "\n",
        "    @rtype: null\n",
        "    @param settings: dictionary of settings params of the workflow\n",
        "    \"\"\"\n",
        "    hrflow_client = Hrflow(api_secret=settings[\"ask_e28fa9dee0789ced2c2ea5770ac667c0\"], api_user=settings[\"abdesamadelferchahki@gmail.com\"])\n",
        "    c = Crawler()\n",
        "    driver = c.get_driver()\n",
        "    # Get MAX PAGES\n",
        "    driver.get(settings[\"https://uk.indeed.com/jobs?q=Developer+python&l=United+Kingdom&from=searchOnHP&vjk=36b1d4a9bb25bba8\"])\n",
        "    driver.maximize_window()\n",
        "    total_jobs = int(driver.find_element_by_xpath(\"//*[@class='totalcount']\").text)\n",
        "    count_jobs = 120 # count jobs per Page\n",
        "    total_pages = total_jobs // count_jobs + 1\n",
        "    for page in range(0, total_pages):\n",
        "        page_url = settings[\"https://uk.indeed.com/jobs?q=Developer+python&l=United+Kingdom&from=searchOnHP&vjk=36b1d4a9bb25bba8\"]+\"s=%s\"%((page+1)*count_jobs)\n",
        "        driver.get(page_url)\n",
        "        jobs = driver.find_elements_by_xpath(\"//*[@class='result-heading']\")\n",
        "        total_jobs = int(driver.find_element_by_xpath(\"//*[@class='totalcount']\").text)\n",
        "        for i in range(0, total_jobs):\n",
        "            driver.get(jobs[i].find_element_by_tag_name(\"a\").get_attribute(\"href\"))\n",
        "            reference = driver.find_element_by_xpath(\"//*[@class='postinginfo']\").text.split(\":\")[0].strip()\n",
        "            verify_job = hrflow_client.job.indexing.get(board_key=settings[\"6e0ec256f3ad86eb992ef75200722e95e4e8bca3\"], reference=reference).get(\"data\")\n",
        "            if not verify_job:\n",
        "                try:\n",
        "                    job = format_job(driver)\n",
        "                    job[\"reference\"] = reference\n",
        "                    job[\"agent_key\"] = settings[\"AGENT_KEY\"]\n",
        "                    # Parse skills\n",
        "                    SECTION_SEPARATOR = \"\\n\\n\"  # important to separate sections by double line jumps\n",
        "                    job_text = SECTION_SEPARATOR.join(section[\"description\"] or \"\" for section in job[\"sections\"])\n",
        "                    job_parsing = hrflow_client.document.parsing.post(text=job_text).get(\"data\")\n",
        "                    job[\"skills\"] = format_skills(job_text, job_parsing[\"ents\"])\n",
        "                    # Save Job\n",
        "                    hrflow_client.job.indexing.add_json(board_key=settings[\"BOARD_KEY\"], job_json=job)\n",
        "                except requests.exceptions.RequestException:\n",
        "                    raise Exception(\"Saving job with reference %s failed\"%(reference))"
      ],
      "metadata": {
        "id": "2HT0VKojE67-"
      },
      "execution_count": 22,
      "outputs": []
    },
    {
      "cell_type": "code",
      "execution_count": 25,
      "metadata": {
        "id": "Q2tB0e63h8JC",
        "colab": {
          "base_uri": "https://localhost:8080/",
          "height": 381
        },
        "outputId": "e3b9acd9-2a4b-4fb0-98c6-8d3f820d4b84"
      },
      "outputs": [
        {
          "output_type": "error",
          "ename": "AttributeError",
          "evalue": "ignored",
          "traceback": [
            "\u001b[0;31m---------------------------------------------------------------------------\u001b[0m",
            "\u001b[0;31mAttributeError\u001b[0m                            Traceback (most recent call last)",
            "\u001b[0;32m<ipython-input-25-38cedb068104>\u001b[0m in \u001b[0;36m<cell line: 22>\u001b[0;34m()\u001b[0m\n\u001b[1;32m     20\u001b[0m \u001b[0moptions\u001b[0m\u001b[0;34m.\u001b[0m\u001b[0madd_experimental_option\u001b[0m\u001b[0;34m(\u001b[0m\u001b[0;34m'w3c'\u001b[0m\u001b[0;34m,\u001b[0m \u001b[0;32mTrue\u001b[0m\u001b[0;34m)\u001b[0m\u001b[0;34m\u001b[0m\u001b[0;34m\u001b[0m\u001b[0m\n\u001b[1;32m     21\u001b[0m \u001b[0;34m\u001b[0m\u001b[0m\n\u001b[0;32m---> 22\u001b[0;31m \u001b[0mdriver\u001b[0m \u001b[0;34m=\u001b[0m \u001b[0mwebdriver\u001b[0m\u001b[0;34m.\u001b[0m\u001b[0mChrome\u001b[0m\u001b[0;34m(\u001b[0m\u001b[0mservice\u001b[0m\u001b[0;34m,\u001b[0m\u001b[0moptions\u001b[0m\u001b[0;34m)\u001b[0m\u001b[0;34m\u001b[0m\u001b[0;34m\u001b[0m\u001b[0m\n\u001b[0m\u001b[1;32m     23\u001b[0m \u001b[0mwait\u001b[0m \u001b[0;34m=\u001b[0m \u001b[0mWebDriverWait\u001b[0m\u001b[0;34m(\u001b[0m\u001b[0mdriver\u001b[0m\u001b[0;34m,\u001b[0m \u001b[0;36m10\u001b[0m\u001b[0;34m)\u001b[0m\u001b[0;34m\u001b[0m\u001b[0;34m\u001b[0m\u001b[0m\n\u001b[1;32m     24\u001b[0m \u001b[0;34m\u001b[0m\u001b[0m\n",
            "\u001b[0;32m/usr/local/lib/python3.10/dist-packages/selenium/webdriver/chrome/webdriver.py\u001b[0m in \u001b[0;36m__init__\u001b[0;34m(self, options, service, keep_alive)\u001b[0m\n\u001b[1;32m     45\u001b[0m         \u001b[0mself\u001b[0m\u001b[0;34m.\u001b[0m\u001b[0mkeep_alive\u001b[0m \u001b[0;34m=\u001b[0m \u001b[0mkeep_alive\u001b[0m\u001b[0;34m\u001b[0m\u001b[0;34m\u001b[0m\u001b[0m\n\u001b[1;32m     46\u001b[0m \u001b[0;34m\u001b[0m\u001b[0m\n\u001b[0;32m---> 47\u001b[0;31m         \u001b[0mself\u001b[0m\u001b[0;34m.\u001b[0m\u001b[0mservice\u001b[0m\u001b[0;34m.\u001b[0m\u001b[0mpath\u001b[0m \u001b[0;34m=\u001b[0m \u001b[0mDriverFinder\u001b[0m\u001b[0;34m.\u001b[0m\u001b[0mget_path\u001b[0m\u001b[0;34m(\u001b[0m\u001b[0mself\u001b[0m\u001b[0;34m.\u001b[0m\u001b[0mservice\u001b[0m\u001b[0;34m,\u001b[0m \u001b[0mself\u001b[0m\u001b[0;34m.\u001b[0m\u001b[0moptions\u001b[0m\u001b[0;34m)\u001b[0m\u001b[0;34m\u001b[0m\u001b[0;34m\u001b[0m\u001b[0m\n\u001b[0m\u001b[1;32m     48\u001b[0m \u001b[0;34m\u001b[0m\u001b[0m\n\u001b[1;32m     49\u001b[0m         super().__init__(\n",
            "\u001b[0;32m/usr/local/lib/python3.10/dist-packages/selenium/webdriver/common/driver_finder.py\u001b[0m in \u001b[0;36mget_path\u001b[0;34m(service, options)\u001b[0m\n\u001b[1;32m     38\u001b[0m     \u001b[0;34m@\u001b[0m\u001b[0mstaticmethod\u001b[0m\u001b[0;34m\u001b[0m\u001b[0;34m\u001b[0m\u001b[0m\n\u001b[1;32m     39\u001b[0m     \u001b[0;32mdef\u001b[0m \u001b[0mget_path\u001b[0m\u001b[0;34m(\u001b[0m\u001b[0mservice\u001b[0m\u001b[0;34m:\u001b[0m \u001b[0mService\u001b[0m\u001b[0;34m,\u001b[0m \u001b[0moptions\u001b[0m\u001b[0;34m:\u001b[0m \u001b[0mBaseOptions\u001b[0m\u001b[0;34m)\u001b[0m \u001b[0;34m->\u001b[0m \u001b[0mstr\u001b[0m\u001b[0;34m:\u001b[0m\u001b[0;34m\u001b[0m\u001b[0;34m\u001b[0m\u001b[0m\n\u001b[0;32m---> 40\u001b[0;31m         \u001b[0mpath\u001b[0m \u001b[0;34m=\u001b[0m \u001b[0mshutil\u001b[0m\u001b[0;34m.\u001b[0m\u001b[0mwhich\u001b[0m\u001b[0;34m(\u001b[0m\u001b[0mservice\u001b[0m\u001b[0;34m.\u001b[0m\u001b[0mpath\u001b[0m\u001b[0;34m)\u001b[0m\u001b[0;34m\u001b[0m\u001b[0;34m\u001b[0m\u001b[0m\n\u001b[0m\u001b[1;32m     41\u001b[0m         \u001b[0;32mtry\u001b[0m\u001b[0;34m:\u001b[0m\u001b[0;34m\u001b[0m\u001b[0;34m\u001b[0m\u001b[0m\n\u001b[1;32m     42\u001b[0m             \u001b[0mpath\u001b[0m \u001b[0;34m=\u001b[0m \u001b[0mSeleniumManager\u001b[0m\u001b[0;34m(\u001b[0m\u001b[0;34m)\u001b[0m\u001b[0;34m.\u001b[0m\u001b[0mdriver_location\u001b[0m\u001b[0;34m(\u001b[0m\u001b[0moptions\u001b[0m\u001b[0;34m)\u001b[0m \u001b[0;32mif\u001b[0m \u001b[0mpath\u001b[0m \u001b[0;32mis\u001b[0m \u001b[0;32mNone\u001b[0m \u001b[0;32melse\u001b[0m \u001b[0mpath\u001b[0m\u001b[0;34m\u001b[0m\u001b[0;34m\u001b[0m\u001b[0m\n",
            "\u001b[0;31mAttributeError\u001b[0m: 'Options' object has no attribute 'path'"
          ]
        }
      ],
      "source": [
        "from selenium import webdriver\n",
        "from selenium.webdriver.common.by import By\n",
        "from selenium.webdriver.support.ui import WebDriverWait\n",
        "from selenium.webdriver.chrome.service import Service as ChromeService\n",
        "from webdriver_manager.chrome import ChromeDriverManager\n",
        "from selenium.webdriver.support import expected_conditions as EC\n",
        "from selenium.webdriver.chrome import service\n",
        "from webdriver_manager.opera import OperaDriverManager\n",
        "from bs4 import BeautifulSoup\n",
        "import time\n",
        "import pandas as pd\n",
        "from hrflow import Hrflow\n",
        "\n",
        "# Set up Selenium WebDriver with Chrome\n",
        "#driver = webdriver.Chrome('C:\\Windows\\chromedriver.exe')\n",
        "webdriver_service = service.Service(OperaDriverManager().install())\n",
        "webdriver_service.start()\n",
        "\n",
        "options = webdriver.ChromeOptions()\n",
        "options.add_experimental_option('w3c', True)\n",
        "driver = webdriver.Chrome('/path/to/chromedriver')\n",
        "wait = WebDriverWait(driver, 10)\n",
        "\n",
        "# Initialize HrFlow.ai client\n",
        "hrflow_client = Hrflow(api_secret='ask_e28fa9dee0789ced2c2ea5770ac667c0')\n",
        "\n",
        "# Set the URL and perform a search on the Indeed job site\n",
        "url = 'https://uk.indeed.com/'\n",
        "job_title = 'Developer python'\n",
        "location = 'United Kingdom'\n",
        "driver.get(url)\n",
        "search_box = wait.until(EC.presence_of_element_located((By.ID, 'text-input-what')))\n",
        "search_box.clear()\n",
        "search_box.send_keys(job_title)\n",
        "location_box = wait.until(EC.presence_of_element_located((By.ID, 'text-input-where')))\n",
        "location_box.clear()\n",
        "location_box.send_keys(location)\n",
        "driver.find_element(By.CLASS_NAME, 'icl-WhatWhere-buttonWrapper').click()\n",
        "\n",
        "# Scraping job offers\n",
        "job_offers = []\n",
        "while len(job_offers) < 100000:  # Scrape until desired number of job offers is reached\n",
        "    # Wait for the job listing to load\n",
        "    wait.until(EC.presence_of_element_located((By.CLASS_NAME, 'jobsearch-SerpJobCard')))\n",
        "    # Scroll to the bottom of the page to load more job offers\n",
        "    driver.execute_script(\"window.scrollTo(0, document.body.scrollHeight);\")\n",
        "    time.sleep(2)  # Wait for the page to load\n",
        "    # Get the HTML content\n",
        "    page_source = driver.page_source\n",
        "    soup = BeautifulSoup(page_source, 'html.parser')\n",
        "    # Extract job offer details\n",
        "    job_cards = soup.find_all('div', class_='jobsearch-SerpJobCard')\n",
        "    for card in job_cards:\n",
        "        # Extract relevant information from the job card\n",
        "        title = card.find('a', class_='jobtitle').text.strip()\n",
        "        company = card.find('span', class_='company').text.strip()\n",
        "        location = card.find('div', class_='location').text.strip()\n",
        "        job_offers.append({'title': title, 'company': company, 'location': location})\n",
        "        if len(job_offers) >= 100000:\n",
        "            break\n",
        "    if len(job_offers) >= 100000:\n",
        "        break\n",
        "    # Click on the \"Next\" button to load the next page of job offers\n",
        "    next_button = driver.find_element(By.CLASS_NAME, 'np')\n",
        "    next_button.click()\n",
        "\n",
        "# Save job offers to a CSV file\n",
        "df = pd.DataFrame(job_offers)\n",
        "df.to_csv('job_offers.csv', index=False)\n",
        "\n",
        "# Synchronize job offers with HrFlow.ai\n",
        "hrflow_client.set_user_authentication('abdesamadelferchahki@gmail.com', 'ask_e28fa9dee0789ced2c2ea5770ac667c0')\n",
        "board_key = '6e0ec256f3ad86eb992ef75200722e95e4e8bca3'\n",
        "for job_offer in job_offers:\n",
        "    job_data = {\n",
        "        'job': {\n",
        "            'title': job_offer['title'],\n",
        "            'company': job_offer['company'],\n",
        "            'location': job_offer['location']\n",
        "        }\n",
        "    }\n",
        "    hrflow_client.jobs.create(job_data, board_key=board_key)\n",
        "\n",
        "# Close the browser\n",
        "driver.quit()\n"
      ]
    },
    {
      "cell_type": "code",
      "source": [],
      "metadata": {
        "id": "eQV6DHJqLiwt"
      },
      "execution_count": null,
      "outputs": []
    }
  ]
}